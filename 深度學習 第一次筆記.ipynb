{
 "cells": [
  {
   "cell_type": "code",
   "execution_count": 3,
   "metadata": {},
   "outputs": [
    {
     "name": "stdout",
     "output_type": "stream",
     "text": [
      "Collecting package metadata (current_repodata.json): ...working... done\n",
      "Solving environment: ...working... done\n",
      "\n",
      "# All requested packages already installed.\n",
      "\n",
      "Retrieving notices: ...working... done\n"
     ]
    }
   ],
   "source": [
    "! conda install -c anaconda scipy #一定要 + ! "
   ]
  },
  {
   "cell_type": "code",
   "execution_count": 4,
   "metadata": {},
   "outputs": [],
   "source": [
    "import numpy as np\n",
    "from scipy import signal\n",
    "from scipy import misc\n",
    "image = np.random.randint(255,size=(6,6));\n",
    "kernel = np.array([[1,0,0],[0,1,0],[0,0,1]]);\n",
    "res2 = signal.convolve2d(image,kernel,mode='same',boundary='fill',fillvalue=0);"
   ]
  },
  {
   "cell_type": "code",
   "execution_count": 5,
   "metadata": {},
   "outputs": [
    {
     "data": {
      "text/plain": [
       "array([[403, 303, 207, 317, 393, 214],\n",
       "       [263, 568, 506, 370, 424, 393],\n",
       "       [108, 437, 381, 495, 313, 296],\n",
       "       [273, 307, 447, 274, 503, 214],\n",
       "       [231, 375, 352, 464, 204, 300],\n",
       "       [ 26, 231, 284, 327, 290, 166]])"
      ]
     },
     "execution_count": 5,
     "metadata": {},
     "output_type": "execute_result"
    }
   ],
   "source": [
    "res2"
   ]
  },
  {
   "cell_type": "code",
   "execution_count": 17,
   "metadata": {},
   "outputs": [],
   "source": [
    "def convolve2d_2(image,kernel):\n",
    "    kernel = np.flipud(np.fliplr(kernel)) \n",
    "    #flipud:上/下反轉\n",
    "    #fliplr:左/右反轉\n",
    "    output=np.zeros_like(image)\n",
    "    #zeros_likes弄一個數值一樣但值為0的array\n",
    "    \n",
    "    image_padded=np.zeros((image.shape[0]+2,image.shape[1]+2))\n",
    "    #shape[0]:列數\n",
    "    #shape[1]:行數\n",
    "    image_padded[1:-1,1:-1]=image\n",
    "    for x in range(image.shape[1]):\n",
    "        for y in range(image.shape[0]):\n",
    "            output[x][y] = (kernel * image_padded[x:x+kernel.shape[0],y:y+kernel.shape[1]]).sum()\n",
    "    return output\n",
    "\n",
    "Y2=convolve2d_2(image,kernel) #run Y[m,n]=h[m,n]*x[m,n]"
   ]
  }
 ],
 "metadata": {
  "accelerator": "GPU",
  "colab": {
   "provenance": []
  },
  "kernelspec": {
   "display_name": "Python 3",
   "language": "python",
   "name": "python3"
  },
  "language_info": {
   "codemirror_mode": {
    "name": "ipython",
    "version": 3
   },
   "file_extension": ".py",
   "mimetype": "text/x-python",
   "name": "python",
   "nbconvert_exporter": "python",
   "pygments_lexer": "ipython3",
   "version": "3.6.13"
  }
 },
 "nbformat": 4,
 "nbformat_minor": 1
}
